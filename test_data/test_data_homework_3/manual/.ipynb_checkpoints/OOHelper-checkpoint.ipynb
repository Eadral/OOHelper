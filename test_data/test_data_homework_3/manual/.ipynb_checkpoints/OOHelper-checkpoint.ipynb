{
 "cells": [
  {
   "cell_type": "code",
   "execution_count": 96,
   "metadata": {},
   "outputs": [],
   "source": [
    "import sympy\n",
    "from sympy import Symbol, sin, cos, diff, simplify\n",
    "x = Symbol('x')"
   ]
  },
  {
   "cell_type": "code",
   "execution_count": 59,
   "metadata": {},
   "outputs": [],
   "source": [
    "def t(expr):\n",
    "    return eval(expr.replace(\"^\", \"**\"))"
   ]
  },
  {
   "cell_type": "code",
   "execution_count": 60,
   "metadata": {},
   "outputs": [],
   "source": [
    "def t_(expr):\n",
    "    return str(expr).replace(\"**\", \"^\").replace(\" \", \"\")"
   ]
  },
  {
   "cell_type": "code",
   "execution_count": 117,
   "metadata": {},
   "outputs": [],
   "source": [
    "def equal(a, b):\n",
    "    return simplify(simplify(t(a) - t(b)))"
   ]
  },
  {
   "cell_type": "code",
   "execution_count": 97,
   "metadata": {},
   "outputs": [],
   "source": [
    "def P(data_in, name=\"\"):\n",
    "    global i\n",
    "    i += 1\n",
    "    name = name + \"{}\".format(i)\n",
    "    name = \"positive\\\\\" + name\n",
    "    open(name+\".in\", \"w\").writelines([data_in])\n",
    "    open(name+\".out\", \"w\").writelines([(t_(simplify(diff(t(data_in), x))))])\n",
    "    print(name)"
   ]
  },
  {
   "cell_type": "code",
   "execution_count": 98,
   "metadata": {},
   "outputs": [],
   "source": [
    "def N(data_in, name=\"\"):\n",
    "    global i\n",
    "    i += 1\n",
    "    name = name + \"{}\".format(i)\n",
    "    name = \"negative\\\\\" + name\n",
    "    open(name+\".in\", \"w\").writelines([data_in])\n",
    "    open(name+\".out\", \"w\").writelines([\"WRONG FORMAT!\"])\n",
    "    print(name)"
   ]
  },
  {
   "cell_type": "code",
   "execution_count": null,
   "metadata": {},
   "outputs": [],
   "source": []
  },
  {
   "cell_type": "code",
   "execution_count": 133,
   "metadata": {},
   "outputs": [
    {
     "name": "stdout",
     "output_type": "stream",
     "text": [
      "positive\\64\n"
     ]
    }
   ],
   "source": [
    "P(\"(2*x-(3*sin(x)^2*cos(x)-sin(2*x)+1)*sin(x+sin(x)^3+cos(x)^2)+27*cos(x))\", \"\")"
   ]
  },
  {
   "cell_type": "code",
   "execution_count": 136,
   "metadata": {},
   "outputs": [
    {
     "name": "stdout",
     "output_type": "stream",
     "text": [
      "negative\\67\n"
     ]
    }
   ],
   "source": [
    "N(\"(2*x-(3*sin(x)^2*cos(x)-sin(2*x+1))*sin(x+sin(x)^3+cos(x)^2)+27*cos(x))\", \"\")"
   ]
  },
  {
   "cell_type": "code",
   "execution_count": null,
   "metadata": {},
   "outputs": [],
   "source": []
  },
  {
   "cell_type": "code",
   "execution_count": null,
   "metadata": {},
   "outputs": [],
   "source": []
  },
  {
   "cell_type": "code",
   "execution_count": 126,
   "metadata": {},
   "outputs": [
    {
     "name": "stdout",
     "output_type": "stream",
     "text": [
      "1\n"
     ]
    }
   ],
   "source": [
    "print(t_(simplify(diff(t(\n",
    "    \"sin((x-x))^0*x\"\n",
    "), x))))"
   ]
  },
  {
   "cell_type": "code",
   "execution_count": 45,
   "metadata": {},
   "outputs": [
    {
     "name": "stdout",
     "output_type": "stream",
     "text": [
      "33\n"
     ]
    }
   ],
   "source": []
  },
  {
   "cell_type": "code",
   "execution_count": 120,
   "metadata": {},
   "outputs": [
    {
     "data": {
      "text/plain": [
       "0"
      ]
     },
     "execution_count": 120,
     "metadata": {},
     "output_type": "execute_result"
    }
   ],
   "source": [
    "equal(\n",
    "\"2*cos((x^2+cos((cos(x)^2+sin(x)^3+x))+(3)*(3)*(3)*sin(x)))*x+2*cos((x^2+cos((cos(x)^2+sin(x)^3+x))+(3)*(3)*(3)*sin(x)))*sin((cos(x)^2+sin(x)^3+x))*cos(x)*sin(x)-3*cos((x^2+cos((cos(x)^2+sin(x)^3+x))+(3)*(3)*(3)*sin(x)))*sin((cos(x)^2+sin(x)^3+x))*sin(x)^2*cos(x)-cos((x^2+cos((cos(x)^2+sin(x)^3+x))+(3)*(3)*(3)*sin(x)))*sin((cos(x)^2+sin(x)^3+x))+cos((x^2+cos((cos(x)^2+sin(x)^3+x))+(3)*(3)*(3)*sin(x)))*cos(x)*(3)*(3)*(3)\",\n",
    "\"(2*x-(3*sin(x)^2*cos(x)-sin(2*x)+1)*sin(x+sin(x)^3+cos(x)^2)+27*cos(x))*cos(x^2+27*sin(x)+cos(x+sin(x)^3+cos(x)^2))\",\n",
    ")"
   ]
  },
  {
   "cell_type": "code",
   "execution_count": null,
   "metadata": {},
   "outputs": [],
   "source": []
  },
  {
   "cell_type": "code",
   "execution_count": null,
   "metadata": {},
   "outputs": [],
   "source": []
  }
 ],
 "metadata": {
  "kernelspec": {
   "display_name": "Python 3",
   "language": "python",
   "name": "python3"
  },
  "language_info": {
   "codemirror_mode": {
    "name": "ipython",
    "version": 3
   },
   "file_extension": ".py",
   "mimetype": "text/x-python",
   "name": "python",
   "nbconvert_exporter": "python",
   "pygments_lexer": "ipython3",
   "version": "3.7.0"
  }
 },
 "nbformat": 4,
 "nbformat_minor": 2
}
