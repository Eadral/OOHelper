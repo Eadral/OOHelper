{
 "cells": [
  {
   "cell_type": "code",
   "execution_count": 45,
   "metadata": {},
   "outputs": [],
   "source": [
    "import time\n",
    "import sympy\n",
    "from sympy import Symbol, sin, cos, diff, simplify\n",
    "x = Symbol('x')"
   ]
  },
  {
   "cell_type": "code",
   "execution_count": 46,
   "metadata": {},
   "outputs": [],
   "source": [
    "def t(expr):\n",
    "    return eval(expr.replace(\"^\", \"**\"))"
   ]
  },
  {
   "cell_type": "code",
   "execution_count": 47,
   "metadata": {},
   "outputs": [],
   "source": [
    "def t_(expr):\n",
    "    return str(expr).replace(\"**\", \"^\").replace(\" \", \"\")"
   ]
  },
  {
   "cell_type": "code",
   "execution_count": 48,
   "metadata": {},
   "outputs": [],
   "source": [
    "def equal(a, b):\n",
    "    return simplify(simplify(t(a) - t(b)))"
   ]
  },
  {
   "cell_type": "code",
   "execution_count": null,
   "metadata": {},
   "outputs": [],
   "source": []
  },
  {
   "cell_type": "code",
   "execution_count": 52,
   "metadata": {},
   "outputs": [],
   "source": [
    "def P(data_in, name=\"\"):\n",
    "    name = name + \"{}\".format(time.time())\n",
    "    name = \"positive\\\\\" + name\n",
    "    open(name+\".in\", \"w\").writelines([data_in])\n",
    "    data = (t_(simplify(diff(t(data_in), x))))\n",
    "    open(name+\".out\", \"w\").writelines([data])\n",
    "    print(name)\n",
    "    print(data)"
   ]
  },
  {
   "cell_type": "code",
   "execution_count": 53,
   "metadata": {},
   "outputs": [],
   "source": [
    "def N(data_in, name=\"\"):\n",
    "    name = name + \"{}\".format(time.time())\n",
    "    name = \"negative\\\\\" + name\n",
    "    open(name+\".in\", \"w\").writelines([data_in])\n",
    "    open(name+\".out\", \"w\").writelines([\"WRONG FORMAT!\"])\n",
    "    print(name)"
   ]
  },
  {
   "cell_type": "code",
   "execution_count": 43,
   "metadata": {},
   "outputs": [],
   "source": []
  },
  {
   "cell_type": "code",
   "execution_count": 44,
   "metadata": {},
   "outputs": [
    {
     "data": {
      "text/plain": [
       "1552923685.9274337"
      ]
     },
     "execution_count": 44,
     "metadata": {},
     "output_type": "execute_result"
    }
   ],
   "source": []
  },
  {
   "cell_type": "code",
   "execution_count": 27,
   "metadata": {},
   "outputs": [
    {
     "name": "stdout",
     "output_type": "stream",
     "text": [
      "positive\\123\n",
      "-2*x*(2*x-27*cos(x))*sin(x^2-27*sin(x)+cos(1))+2*cos(x^2-27*sin(x)+cos(1))\n"
     ]
    }
   ],
   "source": [
    "P(\"2*cos((x^2+cos((cos(x)^2+sin(x)^2))+(-- - 3)*(3)*(3)*sin(x)))*x\", \"\")"
   ]
  },
  {
   "cell_type": "code",
   "execution_count": 42,
   "metadata": {},
   "outputs": [
    {
     "name": "stdout",
     "output_type": "stream",
     "text": [
      "negative\\121\n"
     ]
    }
   ],
   "source": [
    "N(\"2*cos((x^2+cos((cos(x)^2+sin(x)^2))+(-+ - 3)*(3)*(3)*sin(x)))*x\", \"\")"
   ]
  },
  {
   "cell_type": "code",
   "execution_count": 23,
   "metadata": {},
   "outputs": [
    {
     "ename": "TypeError",
     "evalue": "unsupported operand type(s) for ^: 'cos' and 'Add'",
     "output_type": "error",
     "traceback": [
      "\u001b[1;31m---------------------------------------------------------------------------\u001b[0m",
      "\u001b[1;31mTypeError\u001b[0m                                 Traceback (most recent call last)",
      "\u001b[1;32m<ipython-input-23-2fe843cd7697>\u001b[0m in \u001b[0;36m<module>\u001b[1;34m()\u001b[0m\n\u001b[1;32m----> 1\u001b[1;33m \u001b[1;36m2\u001b[0m\u001b[1;33m*\u001b[0m\u001b[0mcos\u001b[0m\u001b[1;33m(\u001b[0m\u001b[1;33m(\u001b[0m\u001b[0mx\u001b[0m\u001b[1;33m^\u001b[0m\u001b[1;36m2\u001b[0m\u001b[1;33m+\u001b[0m\u001b[0mcos\u001b[0m\u001b[1;33m(\u001b[0m\u001b[1;33m(\u001b[0m\u001b[0mcos\u001b[0m\u001b[1;33m(\u001b[0m\u001b[0mx\u001b[0m\u001b[1;33m)\u001b[0m\u001b[1;33m^\u001b[0m\u001b[1;36m2\u001b[0m\u001b[1;33m+\u001b[0m\u001b[0msin\u001b[0m\u001b[1;33m(\u001b[0m\u001b[0mx\u001b[0m\u001b[1;33m)\u001b[0m\u001b[1;33m^\u001b[0m\u001b[1;36m2\u001b[0m\u001b[1;33m)\u001b[0m\u001b[1;33m)\u001b[0m\u001b[1;33m+\u001b[0m\u001b[1;33m(\u001b[0m\u001b[1;36m3\u001b[0m\u001b[1;33m)\u001b[0m\u001b[1;33m*\u001b[0m\u001b[1;33m(\u001b[0m\u001b[1;36m3\u001b[0m\u001b[1;33m)\u001b[0m\u001b[1;33m*\u001b[0m\u001b[1;33m(\u001b[0m\u001b[1;36m3\u001b[0m\u001b[1;33m)\u001b[0m\u001b[1;33m*\u001b[0m\u001b[0msin\u001b[0m\u001b[1;33m(\u001b[0m\u001b[0mx\u001b[0m\u001b[1;33m)\u001b[0m\u001b[1;33m)\u001b[0m\u001b[1;33m)\u001b[0m\u001b[1;33m*\u001b[0m\u001b[0mx\u001b[0m\u001b[1;33m\u001b[0m\u001b[0m\n\u001b[0m",
      "\u001b[1;31mTypeError\u001b[0m: unsupported operand type(s) for ^: 'cos' and 'Add'"
     ]
    }
   ],
   "source": [
    "2*cos((x^2+cos((cos(x)^2+sin(x)^2))+(3)*(3)*(3)*sin(x)))*x"
   ]
  },
  {
   "cell_type": "code",
   "execution_count": null,
   "metadata": {},
   "outputs": [],
   "source": []
  },
  {
   "cell_type": "code",
   "execution_count": 24,
   "metadata": {},
   "outputs": [
    {
     "name": "stdout",
     "output_type": "stream",
     "text": [
      "-2*x*(2*x+27*cos(x))*sin(x^2+27*sin(x)+cos(1))+2*cos(x^2+27*sin(x)+cos(1))\n"
     ]
    }
   ],
   "source": [
    "print(t_(simplify(diff(t(\n",
    "    \"2*cos((x^2+cos((cos(x)^2+sin(x)^2))+(3)*(3)*(3)*sin(x)))*x\"\n",
    "), x))))"
   ]
  },
  {
   "cell_type": "code",
   "execution_count": 45,
   "metadata": {},
   "outputs": [
    {
     "name": "stdout",
     "output_type": "stream",
     "text": [
      "33\n"
     ]
    }
   ],
   "source": []
  },
  {
   "cell_type": "code",
   "execution_count": 120,
   "metadata": {},
   "outputs": [
    {
     "data": {
      "text/plain": [
       "0"
      ]
     },
     "execution_count": 120,
     "metadata": {},
     "output_type": "execute_result"
    }
   ],
   "source": [
    "equal(\n",
    "\"2*cos((x^2+cos((cos(x)^2+sin(x)^3+x))+(3)*(3)*(3)*sin(x)))*x+2*cos((x^2+cos((cos(x)^2+sin(x)^3+x))+(3)*(3)*(3)*sin(x)))*sin((cos(x)^2+sin(x)^3+x))*cos(x)*sin(x)-3*cos((x^2+cos((cos(x)^2+sin(x)^3+x))+(3)*(3)*(3)*sin(x)))*sin((cos(x)^2+sin(x)^3+x))*sin(x)^2*cos(x)-cos((x^2+cos((cos(x)^2+sin(x)^3+x))+(3)*(3)*(3)*sin(x)))*sin((cos(x)^2+sin(x)^3+x))+cos((x^2+cos((cos(x)^2+sin(x)^3+x))+(3)*(3)*(3)*sin(x)))*cos(x)*(3)*(3)*(3)\",\n",
    "\"(2*x-(3*sin(x)^2*cos(x)-sin(2*x)+1)*sin(x+sin(x)^3+cos(x)^2)+27*cos(x))*cos(x^2+27*sin(x)+cos(x+sin(x)^3+cos(x)^2))\",\n",
    ")"
   ]
  },
  {
   "cell_type": "code",
   "execution_count": null,
   "metadata": {},
   "outputs": [],
   "source": []
  },
  {
   "cell_type": "code",
   "execution_count": null,
   "metadata": {},
   "outputs": [],
   "source": []
  }
 ],
 "metadata": {
  "kernelspec": {
   "display_name": "Python 3",
   "language": "python",
   "name": "python3"
  },
  "language_info": {
   "codemirror_mode": {
    "name": "ipython",
    "version": 3
   },
   "file_extension": ".py",
   "mimetype": "text/x-python",
   "name": "python",
   "nbconvert_exporter": "python",
   "pygments_lexer": "ipython3",
   "version": "3.7.0"
  }
 },
 "nbformat": 4,
 "nbformat_minor": 2
}
